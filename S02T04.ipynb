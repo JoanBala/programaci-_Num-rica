{
 "cells": [
  {
   "cell_type": "markdown",
   "id": "fc36a447",
   "metadata": {},
   "source": [
    "Notebooks: [Numpy](Numpy.ipynb) || [Numpy_Practico](Numpy_Practico.ipynb)"
   ]
  },
  {
   "cell_type": "markdown",
   "id": "1cd25f48",
   "metadata": {},
   "source": [
    "# S02 T04: Pràctica amb programació numèrica\n",
    "\n",
    "##### Familiaritza't amb la Programació Numèrica a través de la llibreria NumPy. [NumPy](https://numpy.org/doc/stable/reference/index.html)"
   ]
  },
  {
   "cell_type": "markdown",
   "id": "c9f1730b",
   "metadata": {},
   "source": [
    "## Nivell 1"
   ]
  },
  {
   "cell_type": "markdown",
   "id": "2f8c0b79",
   "metadata": {
    "heading_collapsed": true
   },
   "source": [
    "### * Exercici 1\n",
    "\n",
    "Crea una funció que donat un Array d’una dimensió, et faci un resum estadístic bàsic de les dades. Si detecta que l’array té més d’una dimensió, ha de mostrar un missatge d’error."
   ]
  },
  {
   "cell_type": "raw",
   "id": "40272bd3",
   "metadata": {
    "hidden": true
   },
   "source": [
    ">>> my_array.shape                      Get the dimensions of the array\n",
    "\n",
    ">>> np.append(other_array)              Append items to an array\n",
    ">>> np.insert(my_array, 1, 5)           Insert items in an array\n",
    ">>> np.delete(my_array,[1])             Delete items in an array\n",
    "\n",
    ">>> np.amax(nparray)                    ?????????????\n",
    ">>> np.amin(nparray)                    ?????????????\n",
    ">>> np.average(nparray)                 ?????????????\n",
    ">>> np.var(nparray)                     ?????????????\n",
    ">>> np.mean(my_array)                   Mean of the array\n",
    ">>> np.median(my_array)                 Median of the array\n",
    ">>> my_array.corrcoef()                 Correlation coefficient\n",
    ">>> np.std(my_array)                    Standard deviation"
   ]
  },
  {
   "cell_type": "code",
   "execution_count": 1,
   "id": "df8a9abb",
   "metadata": {
    "hidden": true
   },
   "outputs": [
    {
     "name": "stdout",
     "output_type": "stream",
     "text": [
      "La Llista generada és:\n",
      " [82, 86, 44, 15, 94, 61, 50, 85, 39, 62, 25, 62, 59, 38, 96, 20, 10, 34, 38, 83, 50, 48, 27, 35, 14]\n"
     ]
    }
   ],
   "source": [
    "import numpy as np\n",
    "import random\n",
    "\n",
    "random_list=[]\n",
    "for i in range(25):\n",
    "    random_list.append(random.randint(10,99))\n",
    "print(\"La Llista generada és:\\n\", random_list)"
   ]
  },
  {
   "cell_type": "code",
   "execution_count": 2,
   "id": "f0c71a03",
   "metadata": {
    "hidden": true
   },
   "outputs": [
    {
     "name": "stdout",
     "output_type": "stream",
     "text": [
      "Convertim la Llista en NParray:\n",
      " [82 86 44 15 94 61 50 85 39 62 25 62 59 38 96 20 10 34 38 83 50 48 27 35\n",
      " 14]\n"
     ]
    }
   ],
   "source": [
    "random_list_1D=np.array(random_list)        #Sense posar-li '.reshape(25,)', per defecte converteix la Llista \n",
    "print(\"Convertim la Llista en NParray:\\n\",random_list_1D)                                        # en Array 1D."
   ]
  },
  {
   "cell_type": "markdown",
   "id": "0da20cf0",
   "metadata": {},
   "source": [
    "### * Exercici 2\n",
    "\n",
    "Crea una funció que et generi un quadrat NxN de nombres aleatoris entre el 0 i el 100."
   ]
  },
  {
   "cell_type": "markdown",
   "id": "e71058c1",
   "metadata": {
    "heading_collapsed": true
   },
   "source": [
    "###### a) _La funció creada genera el quadrat del número i l'imprimeix des de la funció sense retornar cap valor._"
   ]
  },
  {
   "cell_type": "code",
   "execution_count": 11,
   "id": "d77ec69a",
   "metadata": {
    "hidden": true
   },
   "outputs": [
    {
     "data": {
      "text/html": [
       "\n",
       "    <button type=\"button\" id=\"un_string_unico_y_reconocible\" onclick=\"code_toggle('un_string_unico_y_reconocible')\">Oculta/Mostra Codi</button>\n",
       "    <script>\n",
       "    function code_toggle(my_id) {\n",
       "        // get the parent element for the cell code and output\n",
       "        var p = $(\"#\"+my_id);\n",
       "        if (p.length==0) return;\n",
       "        while (!p.hasClass(\"cell\")) {\n",
       "            p = p.parent();\n",
       "            if (p.prop(\"tagName\") ==\"body\") return;\n",
       "        }\n",
       "    // get the cell code and toggle its value\n",
       "    var cell_code = p.find(\".input\");\n",
       "    cell_code.toggle();\n",
       "    }\n",
       "    </script>\n",
       "    "
      ]
     },
     "metadata": {},
     "output_type": "display_data"
    },
    {
     "name": "stdout",
     "output_type": "stream",
     "text": [
      "Introdueix un número de l'1 al 10 : 5\n",
      "\n",
      "El quadrat quedaria així :\n",
      "\n",
      "77 48 93 40 86 \n",
      "15 95 72 39 21 \n",
      "93 70 95 26 90 \n",
      "10 70 52 69 97 \n",
      "65 70 68 79 80 \n"
     ]
    }
   ],
   "source": [
    "from matplotlib import pyplot as plt             \n",
    "import random\n",
    "import numpy as np\n",
    "\n",
    "def toggle_cell_code(button_id):\n",
    "    \"\"\"\n",
    "    Adds a button to toggle (show/hide) the code cell but not the output. \n",
    "    \n",
    "    Parameters\n",
    "    ----------\n",
    "    button_id : str\n",
    "        An identifier for cells that will hide/show when button is pressed.\n",
    "    \"\"\"\n",
    "    \n",
    "    from IPython.display import display_html\n",
    "    my_html = '''\n",
    "    <button type=\"button\" id=\"%s\" onclick=\"code_toggle('%s')\">Oculta/Mostra Codi</button>\n",
    "    <script>\n",
    "    function code_toggle(my_id) {\n",
    "        // get the parent element for the cell code and output\n",
    "        var p = $(\"#\"+my_id);\n",
    "        if (p.length==0) return;\n",
    "        while (!p.hasClass(\"cell\")) {\n",
    "            p = p.parent();\n",
    "            if (p.prop(\"tagName\") ==\"body\") return;\n",
    "        }\n",
    "    // get the cell code and toggle its value\n",
    "    var cell_code = p.find(\".input\");\n",
    "    cell_code.toggle();\n",
    "    }\n",
    "    </script>\n",
    "    ''' %(button_id, button_id)\n",
    "    return display_html(my_html, raw=True)\n",
    "    \n",
    "toggle_cell_code(\"un_string_unico_y_reconocible\")\n",
    "\n",
    "###########################################################################################\n",
    "###############  Aquí comença el codi del programa ########################################\n",
    "###########################################################################################\n",
    "\n",
    "random_list=[]                                               #Declarem la Llista buida amb \"[ ]\"\n",
    "quadrat=int(input(\"Introdueix un número de l'1 al 10 : \"))\n",
    "print()\n",
    "\n",
    "def quadrat_NxN(quadrat):\n",
    "    for i in range(quadrat*quadrat):\n",
    "        random_list.insert(i,random.randint(10,99))\n",
    "    random_array=np.array(random_list)\n",
    "\n",
    "    for i in range(0,quadrat*quadrat,quadrat):\n",
    "        for j in range(quadrat):\n",
    "            print(random_array[j+i], end=\" \")\n",
    "        print(\"\")\n",
    "\n",
    "    # Cridem a la funció passant-li el valor introduït per l'usuari, generem l'array i imprimim el resultat.\n",
    "print(\"El quadrat quedaria així :\\n\")\n",
    "quadrat_NxN(quadrat) "
   ]
  },
  {
   "cell_type": "markdown",
   "id": "17713952",
   "metadata": {
    "heading_collapsed": true
   },
   "source": [
    "###### b) _La funció creada genera el quadrat del número, el guarda a una variable i el retorna per imprimir-lo fora de la funció._"
   ]
  },
  {
   "cell_type": "code",
   "execution_count": 4,
   "id": "ee4f576b",
   "metadata": {
    "hidden": true
   },
   "outputs": [
    {
     "name": "stdout",
     "output_type": "stream",
     "text": [
      "Introdueix un número de l'1 al 10 : 5\n",
      "\n",
      "El quadrat quedaria així : \n",
      "\n",
      " 98 12 39 14 82 \n",
      " 77 37 75 86 58 \n",
      " 22 16 29 98 31 \n",
      " 89 74 83 28 20 \n",
      " 59 31 95 81 86 \n",
      " \n"
     ]
    }
   ],
   "source": [
    "def quadrat_NxN(quadrat):\n",
    "    random_list=[]                                               #Declarem la Llista buida amb \"[ ]\"\n",
    "    resultat=''\n",
    "    \n",
    "    for i in range(quadrat*quadrat):\n",
    "        random_list.insert(i,random.randint(10,99))\n",
    "\n",
    "    random_array=np.array(random_list)\n",
    "\n",
    "    for i in range(0,quadrat*quadrat,quadrat):\n",
    "        for j in range(quadrat):\n",
    "            resultat+=str(random_array[j+i])+' '\n",
    "        resultat+=\"\\n \"\n",
    "    return resultat\n",
    "\n",
    "quadrat=int(input(\"Introdueix un número de l'1 al 10 : \"))\n",
    "\n",
    "   # Cridem a la funció passant-li el valor introduït per l'usuari, generem l'array i retornem el valor per ...\n",
    "resultat=quadrat_NxN(quadrat)  \n",
    "print(f\"\\nEl quadrat quedaria així : \\n\\n {resultat}\")             # ... imprimir el resultat."
   ]
  },
  {
   "cell_type": "markdown",
   "id": "940b6f81",
   "metadata": {
    "heading_collapsed": true
   },
   "source": [
    "### * Exercici 3\n",
    "\n",
    "Crea una funció que donada una taula de dues dimensions, et calculi els totals per fila i els totals per columna."
   ]
  },
  {
   "cell_type": "code",
   "execution_count": 12,
   "id": "674aa753",
   "metadata": {
    "hidden": true
   },
   "outputs": [
    {
     "name": "stdout",
     "output_type": "stream",
     "text": [
      "Crearem una Matriu 2D. Quants elements vols per Fila? : 5\n",
      "                    Quants elements vols per Columna? : 5\n",
      "Els totals :\n",
      "Creem l'Array 2D amb els valors introduïts:\n",
      " [[30 35 88 82 42]\n",
      " [53 16 55 76 84]\n",
      " [62 28 77 12 17]\n",
      " [75 52 83 89 91]\n",
      " [59 81 61 74 79]] del tipus: int32 \n",
      "\n",
      "Sumant Files i Columnes...\n",
      "\n",
      "Suma Fila 0: 277\n",
      "Suma Fila 1: 284\n",
      "Suma Fila 2: 196\n",
      "Suma Fila 3: 390\n",
      "Suma Fila 4: 354\n",
      "\n",
      "Suma Columna 0: 279\n",
      "Suma Columna 1: 212\n",
      "Suma Columna 2: 364\n",
      "Suma Columna 3: 333\n",
      "Suma Columna 4: 313\n",
      "\n",
      "Suma de tots els elements:  1501\n"
     ]
    }
   ],
   "source": [
    "def calcula_totals(elements_fila, elements_columna, elements_totals):\n",
    "    random_list=[]\n",
    "    for i in range(elements_totals):\n",
    "        random_list.append(random.randint(10,99))\n",
    "    random_list_2D=np.array(random_list).reshape(elements_fila,elements_columna)\n",
    "    print(f\"Creem l'Array 2D amb els valors introduïts:\\n {random_list_2D} del tipus: {random_list_2D.dtype} \\n\")\n",
    "    print(\"Sumant Files i Columnes...\\n\")\n",
    "    for i in range(len(random_list_2D)):\n",
    "        print(f\"Suma Fila {i}:\", np.sum(random_list_2D[i]))\n",
    "    print()\n",
    "    for i in range(len(random_list_2D)):\n",
    "        print(f\"Suma Columna {i}:\", np.sum(random_list_2D[:,i]))\n",
    "    print(\"\\nSuma de tots els elements: \", np.sum(random_list_2D))\n",
    "    \n",
    "elements_fila=int(input(\"Crearem una Matriu 2D. Quants elements vols per Fila? : \"))\n",
    "elements_columna=int(input(\"                    Quants elements vols per Columna? : \"))\n",
    "elements_totals=elements_fila * elements_columna\n",
    "print(\"Els totals :\")\n",
    "calcula_totals(elements_fila, elements_columna, elements_totals)"
   ]
  },
  {
   "cell_type": "markdown",
   "id": "7b44aedc",
   "metadata": {
    "heading_collapsed": true
   },
   "source": [
    "### * Exercici 4\n",
    "\n",
    "Implementa manualment una funció que calculi el coeficient de correlació. Informa’t-en sobre els seus usos i interpretació."
   ]
  },
  {
   "cell_type": "markdown",
   "id": "aba21944",
   "metadata": {
    "hidden": true
   },
   "source": [
    ">Los coeficientes de correlación lineal son estadísticos que cuantifican la asociación lineal entre dos variables numéricas. Existen diferentes tipos, de entre los que destacan el __Pearson__, __Rho de Spearman__ y __Tau de Kendall__."
   ]
  },
  {
   "cell_type": "markdown",
   "id": "5631d8c2",
   "metadata": {
    "hidden": true
   },
   "source": [
    "#### Tutorial de la matrix de correlacion de Python !!!!!!!!!!!!!!!!! "
   ]
  },
  {
   "cell_type": "markdown",
   "id": "38d37006",
   "metadata": {
    "hidden": true
   },
   "source": [
    "[LikeGeeks - Tutorial de la matrix de correlacion de Python](https://likegeeks.com/es/matrix-correlacion-python/)"
   ]
  },
  {
   "cell_type": "markdown",
   "id": "e44962e8",
   "metadata": {
    "hidden": true
   },
   "source": [
    "#### Función Pandas DataFrame.corr():"
   ]
  },
  {
   "cell_type": "markdown",
   "id": "bf385ec2",
   "metadata": {
    "hidden": true
   },
   "source": [
    "[DelfStack](https://www.delftstack.com/es/api/python-pandas/pandas-dataframe-dataframe.corr-function/)"
   ]
  },
  {
   "cell_type": "markdown",
   "id": "5f1cb690",
   "metadata": {
    "hidden": true
   },
   "source": [
    "#### Cómo calcular la correlación en Python:"
   ]
  },
  {
   "cell_type": "markdown",
   "id": "07b4e7c6",
   "metadata": {
    "hidden": true
   },
   "source": [
    "[cienciadedatos.net - Correlación lineal con Python !!!!!!!!!!!!!!!!!!!!!!!!!!](https://www.cienciadedatos.net/documentos/pystats05-correlacion-lineal-python.html)<br>\n",
    "[statologos - Cómo calcular la correlación en Python](https://statologos.jaol.net/correlacion-en-python/)<br>\n",
    "[statologos - Coeficiente de correlación de Pearson](https://statologos.jaol.net/coeficiente-de-correlacion-de-pearson/)<br>\n",
    "[statologos - Coef. de correlación de rango de Spearman](https://statologos.jaol.net/python-de-correlacion-de-spearman/)<br>\n",
    "[statologos - Tau de Kendall: definición + ejemplo](https://statologos.jaol.net/kendalls-tau/)\n",
    "[statologos - Correlaciones Stata](https://statologos.jaol.net/correlaciones-stata/)"
   ]
  },
  {
   "cell_type": "markdown",
   "id": "09b0942a",
   "metadata": {
    "hidden": true
   },
   "source": [
    "#### Comparación de los coeficientes de Pearson y Spearman:"
   ]
  },
  {
   "cell_type": "markdown",
   "id": "dec3a53e",
   "metadata": {
    "hidden": true
   },
   "source": [
    "[MiniTab 18](https://support.minitab.com/es-mx/minitab/18/help-and-how-to/statistics/basic-statistics/supporting-topics/correlation-and-covariance/a-comparison-of-the-pearson-and-spearman-correlation-methods/)"
   ]
  },
  {
   "cell_type": "markdown",
   "id": "74efaa13",
   "metadata": {
    "hidden": true
   },
   "source": [
    "-------------"
   ]
  },
  {
   "cell_type": "markdown",
   "id": "fb6b8e93",
   "metadata": {},
   "source": [
    "### [Continuació a ... S02T04_Correlations](#S02T04_Correlations.ipynb)"
   ]
  },
  {
   "cell_type": "code",
   "execution_count": null,
   "id": "2fca4fbd",
   "metadata": {},
   "outputs": [],
   "source": []
  }
 ],
 "metadata": {
  "kernelspec": {
   "display_name": "Python 3",
   "language": "python",
   "name": "python3"
  },
  "language_info": {
   "codemirror_mode": {
    "name": "ipython",
    "version": 3
   },
   "file_extension": ".py",
   "mimetype": "text/x-python",
   "name": "python",
   "nbconvert_exporter": "python",
   "pygments_lexer": "ipython3",
   "version": "3.8.8"
  }
 },
 "nbformat": 4,
 "nbformat_minor": 5
}
